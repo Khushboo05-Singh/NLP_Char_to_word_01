{
 "cells": [
  {
   "cell_type": "code",
   "execution_count": 8,
   "id": "4b52de80",
   "metadata": {},
   "outputs": [
    {
     "name": "stdout",
     "output_type": "stream",
     "text": [
      "letters:  ['T', 'h', 'i', 's', 'i', 's', 'a', 't', 'e', 'x', 't', 'f', 'o', 'r', 's', 'e', 'm', 'p', 'l', 'e', 'I', 't', 'c', 'o', 'n', 't', 'a', 'i', 'o', 'n', 's', 'm', 'u', 'l', 't', 'i', 'p', 'l', 'e', 's', 'e', 'n', 't', 'e', 'n', 'c', 'e', 'A', 'n', 'd', 'm', 'o', 'r', 'e', 'w', 'o', 'r', 'd', 's']\n",
      "WordsL:  ['This', 'is', 'a', 'text', 'for', 'semple.', 'It', 'contaions', 'multiple', 'sentence.', 'And', 'more', 'words.']\n",
      "Sentence:  ['This is a text for semple.', 'It contaions multiple sentence.', 'And more words.']\n",
      "1.This is a text for semple.\n",
      "2.It contaions multiple sentence.\n",
      "3.And more words.\n"
     ]
    }
   ],
   "source": [
    "import re\n",
    "def extract_letters(text):\n",
    "    letters=re.findall(r'[a-zA-Z]',text)\n",
    "    return letters\n",
    "def extract_words(text):\n",
    "    words=text.split()\n",
    "    return words\n",
    "def extract_sentence(text):\n",
    "    sentence=re.split(r'(?<=[.?!])\\s',text)\n",
    "    return sentence\n",
    "data=\"This is a text for semple. It contaions multiple sentence. And more words.\"\n",
    "#Extract letters\n",
    "letters=extract_letters(data)\n",
    "print(\"letters: \",letters)\n",
    "#extract word\n",
    "words=extract_words(data)\n",
    "print(\"WordsL: \", words)\n",
    "#extract sentence\n",
    "sentence =extract_sentence(data)\n",
    "print(\"Sentence: \",sentence)\n",
    "for i, sentence in enumerate(sentence,1):\n",
    "    print(f\"{i}.{sentence}\")"
   ]
  },
  {
   "cell_type": "code",
   "execution_count": null,
   "id": "04652876",
   "metadata": {},
   "outputs": [],
   "source": []
  },
  {
   "cell_type": "code",
   "execution_count": null,
   "id": "6a5d3b77",
   "metadata": {},
   "outputs": [],
   "source": []
  }
 ],
 "metadata": {
  "kernelspec": {
   "display_name": "Python 3 (ipykernel)",
   "language": "python",
   "name": "python3"
  },
  "language_info": {
   "codemirror_mode": {
    "name": "ipython",
    "version": 3
   },
   "file_extension": ".py",
   "mimetype": "text/x-python",
   "name": "python",
   "nbconvert_exporter": "python",
   "pygments_lexer": "ipython3",
   "version": "3.11.3"
  }
 },
 "nbformat": 4,
 "nbformat_minor": 5
}
